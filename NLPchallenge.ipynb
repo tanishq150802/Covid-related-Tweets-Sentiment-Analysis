{
  "nbformat": 4,
  "nbformat_minor": 0,
  "metadata": {
    "colab": {
      "name": "NLPchallenge.ipynb",
      "provenance": [],
      "collapsed_sections": [],
      "authorship_tag": "ABX9TyOYM+Vxn/y/9Q++x8yD3pDL",
      "include_colab_link": true
    },
    "kernelspec": {
      "name": "python3",
      "display_name": "Python 3"
    },
    "language_info": {
      "name": "python"
    },
    "accelerator": "GPU"
  },
  "cells": [
    {
      "cell_type": "markdown",
      "metadata": {
        "id": "view-in-github",
        "colab_type": "text"
      },
      "source": [
        "<a href=\"https://colab.research.google.com/github/tanishq150802/Covid-related-Tweets-Sentiment-Analysis/blob/main/NLPchallenge.ipynb\" target=\"_parent\"><img src=\"https://colab.research.google.com/assets/colab-badge.svg\" alt=\"Open In Colab\"/></a>"
      ]
    },
    {
      "cell_type": "code",
      "metadata": {
        "colab": {
          "base_uri": "https://localhost:8080/"
        },
        "id": "E2G8vhuRlre-",
        "outputId": "87393b72-096a-46a6-d0be-a9cf9c794a27"
      },
      "source": [
        "from google.colab import drive\n",
        "drive.mount('/content/drive')"
      ],
      "execution_count": null,
      "outputs": [
        {
          "output_type": "stream",
          "name": "stdout",
          "text": [
            "Drive already mounted at /content/drive; to attempt to forcibly remount, call drive.mount(\"/content/drive\", force_remount=True).\n"
          ]
        }
      ]
    },
    {
      "cell_type": "code",
      "metadata": {
        "id": "tkGpN6oousTI"
      },
      "source": [
        "import re\n",
        "import numpy as np\n",
        "import pandas as pd\n",
        "# plotting\n",
        "import seaborn as sns\n",
        "from wordcloud import WordCloud\n",
        "import matplotlib.pyplot as plt\n",
        "# nltk\n",
        "from nltk.stem import WordNetLemmatizer\n",
        "# sklearn\n",
        "from sklearn.svm import LinearSVC\n",
        "from sklearn.naive_bayes import BernoulliNB\n",
        "from sklearn.linear_model import LogisticRegression\n",
        "from sklearn.model_selection import train_test_split\n",
        "from sklearn.feature_extraction.text import TfidfVectorizer\n",
        "from sklearn.metrics import confusion_matrix, classification_report"
      ],
      "execution_count": null,
      "outputs": []
    },
    {
      "cell_type": "code",
      "metadata": {
        "colab": {
          "base_uri": "https://localhost:8080/",
          "height": 419
        },
        "id": "8b3_OAOGyVjB",
        "outputId": "94058a78-221a-4633-e706-e3d3ff0473ef"
      },
      "source": [
        "DATASET_ENCODING = \"ISO-8859-1\"\n",
        "df_train = pd.read_csv('/content/drive/MyDrive/NLP covid/NLP covid/Pandemic_NLP_train.csv', encoding=DATASET_ENCODING,)\n",
        "df_train"
      ],
      "execution_count": null,
      "outputs": [
        {
          "output_type": "execute_result",
          "data": {
            "text/html": [
              "<div>\n",
              "<style scoped>\n",
              "    .dataframe tbody tr th:only-of-type {\n",
              "        vertical-align: middle;\n",
              "    }\n",
              "\n",
              "    .dataframe tbody tr th {\n",
              "        vertical-align: top;\n",
              "    }\n",
              "\n",
              "    .dataframe thead th {\n",
              "        text-align: right;\n",
              "    }\n",
              "</style>\n",
              "<table border=\"1\" class=\"dataframe\">\n",
              "  <thead>\n",
              "    <tr style=\"text-align: right;\">\n",
              "      <th></th>\n",
              "      <th>UserName</th>\n",
              "      <th>ScreenName</th>\n",
              "      <th>Location</th>\n",
              "      <th>TweetAt</th>\n",
              "      <th>OriginalTweet</th>\n",
              "      <th>Sentiment</th>\n",
              "    </tr>\n",
              "  </thead>\n",
              "  <tbody>\n",
              "    <tr>\n",
              "      <th>0</th>\n",
              "      <td>3799</td>\n",
              "      <td>48751</td>\n",
              "      <td>London</td>\n",
              "      <td>16-03-2020</td>\n",
              "      <td>@MeNyrbie @Phil_Gahan @Chrisitv https://t.co/i...</td>\n",
              "      <td>Neutral</td>\n",
              "    </tr>\n",
              "    <tr>\n",
              "      <th>1</th>\n",
              "      <td>3800</td>\n",
              "      <td>48752</td>\n",
              "      <td>UK</td>\n",
              "      <td>16-03-2020</td>\n",
              "      <td>advice Talk to your neighbours family to excha...</td>\n",
              "      <td>Positive</td>\n",
              "    </tr>\n",
              "    <tr>\n",
              "      <th>2</th>\n",
              "      <td>3801</td>\n",
              "      <td>48753</td>\n",
              "      <td>Vagabonds</td>\n",
              "      <td>16-03-2020</td>\n",
              "      <td>Coronavirus Australia: Woolworths to give elde...</td>\n",
              "      <td>Positive</td>\n",
              "    </tr>\n",
              "    <tr>\n",
              "      <th>3</th>\n",
              "      <td>3802</td>\n",
              "      <td>48754</td>\n",
              "      <td>NaN</td>\n",
              "      <td>16-03-2020</td>\n",
              "      <td>My food stock is not the only one which is emp...</td>\n",
              "      <td>Positive</td>\n",
              "    </tr>\n",
              "    <tr>\n",
              "      <th>4</th>\n",
              "      <td>3803</td>\n",
              "      <td>48755</td>\n",
              "      <td>NaN</td>\n",
              "      <td>16-03-2020</td>\n",
              "      <td>Me, ready to go at supermarket during the #COV...</td>\n",
              "      <td>Extremely Negative</td>\n",
              "    </tr>\n",
              "    <tr>\n",
              "      <th>...</th>\n",
              "      <td>...</td>\n",
              "      <td>...</td>\n",
              "      <td>...</td>\n",
              "      <td>...</td>\n",
              "      <td>...</td>\n",
              "      <td>...</td>\n",
              "    </tr>\n",
              "    <tr>\n",
              "      <th>41152</th>\n",
              "      <td>44951</td>\n",
              "      <td>89903</td>\n",
              "      <td>Wellington City, New Zealand</td>\n",
              "      <td>14-04-2020</td>\n",
              "      <td>Airline pilots offering to stock supermarket s...</td>\n",
              "      <td>Neutral</td>\n",
              "    </tr>\n",
              "    <tr>\n",
              "      <th>41153</th>\n",
              "      <td>44952</td>\n",
              "      <td>89904</td>\n",
              "      <td>NaN</td>\n",
              "      <td>14-04-2020</td>\n",
              "      <td>Response to complaint not provided citing COVI...</td>\n",
              "      <td>Extremely Negative</td>\n",
              "    </tr>\n",
              "    <tr>\n",
              "      <th>41154</th>\n",
              "      <td>44953</td>\n",
              "      <td>89905</td>\n",
              "      <td>NaN</td>\n",
              "      <td>14-04-2020</td>\n",
              "      <td>You know itÂs getting tough when @KameronWild...</td>\n",
              "      <td>Positive</td>\n",
              "    </tr>\n",
              "    <tr>\n",
              "      <th>41155</th>\n",
              "      <td>44954</td>\n",
              "      <td>89906</td>\n",
              "      <td>NaN</td>\n",
              "      <td>14-04-2020</td>\n",
              "      <td>Is it wrong that the smell of hand sanitizer i...</td>\n",
              "      <td>Neutral</td>\n",
              "    </tr>\n",
              "    <tr>\n",
              "      <th>41156</th>\n",
              "      <td>44955</td>\n",
              "      <td>89907</td>\n",
              "      <td>i love you so much || he/him</td>\n",
              "      <td>14-04-2020</td>\n",
              "      <td>@TartiiCat Well new/used Rift S are going for ...</td>\n",
              "      <td>Negative</td>\n",
              "    </tr>\n",
              "  </tbody>\n",
              "</table>\n",
              "<p>41157 rows × 6 columns</p>\n",
              "</div>"
            ],
            "text/plain": [
              "       UserName  ...           Sentiment\n",
              "0          3799  ...             Neutral\n",
              "1          3800  ...            Positive\n",
              "2          3801  ...            Positive\n",
              "3          3802  ...            Positive\n",
              "4          3803  ...  Extremely Negative\n",
              "...         ...  ...                 ...\n",
              "41152     44951  ...             Neutral\n",
              "41153     44952  ...  Extremely Negative\n",
              "41154     44953  ...            Positive\n",
              "41155     44954  ...             Neutral\n",
              "41156     44955  ...            Negative\n",
              "\n",
              "[41157 rows x 6 columns]"
            ]
          },
          "metadata": {},
          "execution_count": 49
        }
      ]
    },
    {
      "cell_type": "code",
      "metadata": {
        "colab": {
          "base_uri": "https://localhost:8080/",
          "height": 419
        },
        "id": "W-CSOp48zQyu",
        "outputId": "af6cd801-40ab-41f6-9845-8a5482050dc8"
      },
      "source": [
        "df_test = pd.read_csv('/content/drive/MyDrive/NLP covid/NLP covid/Pandemic_NLP_test.csv', encoding=DATASET_ENCODING,)\n",
        "df_test"
      ],
      "execution_count": null,
      "outputs": [
        {
          "output_type": "execute_result",
          "data": {
            "text/html": [
              "<div>\n",
              "<style scoped>\n",
              "    .dataframe tbody tr th:only-of-type {\n",
              "        vertical-align: middle;\n",
              "    }\n",
              "\n",
              "    .dataframe tbody tr th {\n",
              "        vertical-align: top;\n",
              "    }\n",
              "\n",
              "    .dataframe thead th {\n",
              "        text-align: right;\n",
              "    }\n",
              "</style>\n",
              "<table border=\"1\" class=\"dataframe\">\n",
              "  <thead>\n",
              "    <tr style=\"text-align: right;\">\n",
              "      <th></th>\n",
              "      <th>UserName</th>\n",
              "      <th>ScreenName</th>\n",
              "      <th>Location</th>\n",
              "      <th>TweetAt</th>\n",
              "      <th>OriginalTweet</th>\n",
              "      <th>Sentiment</th>\n",
              "    </tr>\n",
              "  </thead>\n",
              "  <tbody>\n",
              "    <tr>\n",
              "      <th>0</th>\n",
              "      <td>1</td>\n",
              "      <td>44953</td>\n",
              "      <td>NYC</td>\n",
              "      <td>02-03-2020</td>\n",
              "      <td>TRENDING: New Yorkers encounter empty supermar...</td>\n",
              "      <td>Extremely Negative</td>\n",
              "    </tr>\n",
              "    <tr>\n",
              "      <th>1</th>\n",
              "      <td>2</td>\n",
              "      <td>44954</td>\n",
              "      <td>Seattle, WA</td>\n",
              "      <td>02-03-2020</td>\n",
              "      <td>When I couldn't find hand sanitizer at Fred Me...</td>\n",
              "      <td>Positive</td>\n",
              "    </tr>\n",
              "    <tr>\n",
              "      <th>2</th>\n",
              "      <td>3</td>\n",
              "      <td>44955</td>\n",
              "      <td>NaN</td>\n",
              "      <td>02-03-2020</td>\n",
              "      <td>Find out how you can protect yourself and love...</td>\n",
              "      <td>Extremely Positive</td>\n",
              "    </tr>\n",
              "    <tr>\n",
              "      <th>3</th>\n",
              "      <td>4</td>\n",
              "      <td>44956</td>\n",
              "      <td>Chicagoland</td>\n",
              "      <td>02-03-2020</td>\n",
              "      <td>#Panic buying hits #NewYork City as anxious sh...</td>\n",
              "      <td>Negative</td>\n",
              "    </tr>\n",
              "    <tr>\n",
              "      <th>4</th>\n",
              "      <td>5</td>\n",
              "      <td>44957</td>\n",
              "      <td>Melbourne, Victoria</td>\n",
              "      <td>03-03-2020</td>\n",
              "      <td>#toiletpaper #dunnypaper #coronavirus #coronav...</td>\n",
              "      <td>Neutral</td>\n",
              "    </tr>\n",
              "    <tr>\n",
              "      <th>...</th>\n",
              "      <td>...</td>\n",
              "      <td>...</td>\n",
              "      <td>...</td>\n",
              "      <td>...</td>\n",
              "      <td>...</td>\n",
              "      <td>...</td>\n",
              "    </tr>\n",
              "    <tr>\n",
              "      <th>3793</th>\n",
              "      <td>3794</td>\n",
              "      <td>48746</td>\n",
              "      <td>Israel ??</td>\n",
              "      <td>16-03-2020</td>\n",
              "      <td>Meanwhile In A Supermarket in Israel -- People...</td>\n",
              "      <td>Positive</td>\n",
              "    </tr>\n",
              "    <tr>\n",
              "      <th>3794</th>\n",
              "      <td>3795</td>\n",
              "      <td>48747</td>\n",
              "      <td>Farmington, NM</td>\n",
              "      <td>16-03-2020</td>\n",
              "      <td>Did you panic buy a lot of non-perishable item...</td>\n",
              "      <td>Negative</td>\n",
              "    </tr>\n",
              "    <tr>\n",
              "      <th>3795</th>\n",
              "      <td>3796</td>\n",
              "      <td>48748</td>\n",
              "      <td>Haverford, PA</td>\n",
              "      <td>16-03-2020</td>\n",
              "      <td>Asst Prof of Economics @cconces was on @NBCPhi...</td>\n",
              "      <td>Neutral</td>\n",
              "    </tr>\n",
              "    <tr>\n",
              "      <th>3796</th>\n",
              "      <td>3797</td>\n",
              "      <td>48749</td>\n",
              "      <td>NaN</td>\n",
              "      <td>16-03-2020</td>\n",
              "      <td>Gov need to do somethings instead of biar je r...</td>\n",
              "      <td>Extremely Negative</td>\n",
              "    </tr>\n",
              "    <tr>\n",
              "      <th>3797</th>\n",
              "      <td>3798</td>\n",
              "      <td>48750</td>\n",
              "      <td>Arlington, Virginia</td>\n",
              "      <td>16-03-2020</td>\n",
              "      <td>I and @ForestandPaper members are committed to...</td>\n",
              "      <td>Extremely Positive</td>\n",
              "    </tr>\n",
              "  </tbody>\n",
              "</table>\n",
              "<p>3798 rows × 6 columns</p>\n",
              "</div>"
            ],
            "text/plain": [
              "      UserName  ...           Sentiment\n",
              "0            1  ...  Extremely Negative\n",
              "1            2  ...            Positive\n",
              "2            3  ...  Extremely Positive\n",
              "3            4  ...            Negative\n",
              "4            5  ...             Neutral\n",
              "...        ...  ...                 ...\n",
              "3793      3794  ...            Positive\n",
              "3794      3795  ...            Negative\n",
              "3795      3796  ...             Neutral\n",
              "3796      3797  ...  Extremely Negative\n",
              "3797      3798  ...  Extremely Positive\n",
              "\n",
              "[3798 rows x 6 columns]"
            ]
          },
          "metadata": {},
          "execution_count": 52
        }
      ]
    },
    {
      "cell_type": "code",
      "metadata": {
        "colab": {
          "base_uri": "https://localhost:8080/"
        },
        "id": "aOFgXot_0HgZ",
        "outputId": "86046c48-f0a4-4b76-a720-5ffeadc780c7"
      },
      "source": [
        "df_train.columns"
      ],
      "execution_count": null,
      "outputs": [
        {
          "output_type": "execute_result",
          "data": {
            "text/plain": [
              "Index(['UserName', 'ScreenName', 'Location', 'TweetAt', 'OriginalTweet',\n",
              "       'Sentiment'],\n",
              "      dtype='object')"
            ]
          },
          "metadata": {},
          "execution_count": 53
        }
      ]
    },
    {
      "cell_type": "code",
      "metadata": {
        "colab": {
          "base_uri": "https://localhost:8080/"
        },
        "id": "UF4TQF0N0em8",
        "outputId": "0d9ffae0-f40c-4e75-e5d8-44e11afcc4fe"
      },
      "source": [
        "df_train.dtypes"
      ],
      "execution_count": null,
      "outputs": [
        {
          "output_type": "execute_result",
          "data": {
            "text/plain": [
              "UserName         float64\n",
              "ScreenName       float64\n",
              "Location          object\n",
              "TweetAt           object\n",
              "OriginalTweet     object\n",
              "Sentiment         object\n",
              "dtype: object"
            ]
          },
          "metadata": {},
          "execution_count": 55
        }
      ]
    },
    {
      "cell_type": "code",
      "metadata": {
        "colab": {
          "base_uri": "https://localhost:8080/"
        },
        "id": "S9VCqJ4a1Wq2",
        "outputId": "d917a9e3-5d87-4cae-9ca6-d7d5006d2ffc"
      },
      "source": [
        "df_train['Sentiment'].unique()"
      ],
      "execution_count": null,
      "outputs": [
        {
          "output_type": "execute_result",
          "data": {
            "text/plain": [
              "array(['Neutral', 'Positive', 'Extremely Negative', 'Negative',\n",
              "       'Extremely Positive'], dtype=object)"
            ]
          },
          "metadata": {},
          "execution_count": 58
        }
      ]
    },
    {
      "cell_type": "code",
      "metadata": {
        "colab": {
          "base_uri": "https://localhost:8080/"
        },
        "id": "15mi5S-O1j5b",
        "outputId": "cfcdfa8f-74f9-4e6c-b990-61f61764a9a2"
      },
      "source": [
        "df_train['Sentiment'].nunique()"
      ],
      "execution_count": null,
      "outputs": [
        {
          "output_type": "execute_result",
          "data": {
            "text/plain": [
              "5"
            ]
          },
          "metadata": {},
          "execution_count": 59
        }
      ]
    },
    {
      "cell_type": "code",
      "metadata": {
        "colab": {
          "base_uri": "https://localhost:8080/",
          "height": 295
        },
        "id": "OywGNGTL16Q5",
        "outputId": "625257dd-f570-484d-8179-f0f13b88dc50"
      },
      "source": [
        "# Plotting the distribution for dataset.\n",
        "ax = df_train.groupby('Sentiment').count().plot(kind='bar', title='Distribution of data',legend=False)\n",
        "ax.set_xticklabels(['Neutral', 'Positive', 'Extremely Negative',\n",
        "       'Negative', 'Extremely Positive'], rotation=0)\n",
        "# Storing data in lists.\n",
        "text, sentiment = list(df_train['OriginalTweet']), list(df_train['Sentiment'])"
      ],
      "execution_count": null,
      "outputs": [
        {
          "output_type": "display_data",
          "data": {
            "image/png": "[encoded data removed]",
            "text/plain": [
              "<Figure size 432x288 with 1 Axes>"
            ]
          },
          "metadata": {
            "needs_background": "light"
          }
        }
      ]
    },
    {
      "cell_type": "code",
      "metadata": {
        "colab": {
          "base_uri": "https://localhost:8080/",
          "height": 670
        },
        "id": "eWJii_U78SoV",
        "outputId": "775b0f62-fef8-4fd4-83c5-d516a820bb91"
      },
      "source": [
        "from sklearn import preprocessing\n",
        " \n",
        "# label_encoder object knows how to understand word labels.\n",
        "label_encoder = preprocessing.LabelEncoder()\n",
        " \n",
        "# Encode labels in column 'species'.\n",
        "df_train['Sentiment']= label_encoder.fit_transform(df_train['Sentiment'])\n",
        " \n",
        "df_train.head(20)"
      ],
      "execution_count": null,
      "outputs": [
        {
          "output_type": "execute_result",
          "data": {
            "text/html": [
              "<div>\n",
              "<style scoped>\n",
              "    .dataframe tbody tr th:only-of-type {\n",
              "        vertical-align: middle;\n",
              "    }\n",
              "\n",
              "    .dataframe tbody tr th {\n",
              "        vertical-align: top;\n",
              "    }\n",
              "\n",
              "    .dataframe thead th {\n",
              "        text-align: right;\n",
              "    }\n",
              "</style>\n",
              "<table border=\"1\" class=\"dataframe\">\n",
              "  <thead>\n",
              "    <tr style=\"text-align: right;\">\n",
              "      <th></th>\n",
              "      <th>UserName</th>\n",
              "      <th>ScreenName</th>\n",
              "      <th>Location</th>\n",
              "      <th>TweetAt</th>\n",
              "      <th>OriginalTweet</th>\n",
              "      <th>Sentiment</th>\n",
              "    </tr>\n",
              "  </thead>\n",
              "  <tbody>\n",
              "    <tr>\n",
              "      <th>0</th>\n",
              "      <td>3799.0</td>\n",
              "      <td>48751.0</td>\n",
              "      <td>London</td>\n",
              "      <td>16-03-2020</td>\n",
              "      <td>@MeNyrbie @Phil_Gahan @Chrisitv https://t.co/i...</td>\n",
              "      <td>3</td>\n",
              "    </tr>\n",
              "    <tr>\n",
              "      <th>1</th>\n",
              "      <td>3800.0</td>\n",
              "      <td>48752.0</td>\n",
              "      <td>UK</td>\n",
              "      <td>16-03-2020</td>\n",
              "      <td>advice Talk to your neighbours family to excha...</td>\n",
              "      <td>4</td>\n",
              "    </tr>\n",
              "    <tr>\n",
              "      <th>2</th>\n",
              "      <td>3801.0</td>\n",
              "      <td>48753.0</td>\n",
              "      <td>Vagabonds</td>\n",
              "      <td>16-03-2020</td>\n",
              "      <td>Coronavirus Australia: Woolworths to give elde...</td>\n",
              "      <td>4</td>\n",
              "    </tr>\n",
              "    <tr>\n",
              "      <th>3</th>\n",
              "      <td>3802.0</td>\n",
              "      <td>48754.0</td>\n",
              "      <td>NaN</td>\n",
              "      <td>16-03-2020</td>\n",
              "      <td>My food stock is not the only one which is emp...</td>\n",
              "      <td>4</td>\n",
              "    </tr>\n",
              "    <tr>\n",
              "      <th>4</th>\n",
              "      <td>3803.0</td>\n",
              "      <td>48755.0</td>\n",
              "      <td>NaN</td>\n",
              "      <td>16-03-2020</td>\n",
              "      <td>Me, ready to go at supermarket during the #COV...</td>\n",
              "      <td>0</td>\n",
              "    </tr>\n",
              "    <tr>\n",
              "      <th>5</th>\n",
              "      <td>3804.0</td>\n",
              "      <td>48756.0</td>\n",
              "      <td>ÃT: 36.319708,-82.363649</td>\n",
              "      <td>16-03-2020</td>\n",
              "      <td>As news of the regionÂs first confirmed COVID...</td>\n",
              "      <td>4</td>\n",
              "    </tr>\n",
              "    <tr>\n",
              "      <th>6</th>\n",
              "      <td>3805.0</td>\n",
              "      <td>48757.0</td>\n",
              "      <td>35.926541,-78.753267</td>\n",
              "      <td>16-03-2020</td>\n",
              "      <td>Cashier at grocery store was sharing his insig...</td>\n",
              "      <td>4</td>\n",
              "    </tr>\n",
              "    <tr>\n",
              "      <th>7</th>\n",
              "      <td>3806.0</td>\n",
              "      <td>48758.0</td>\n",
              "      <td>Austria</td>\n",
              "      <td>16-03-2020</td>\n",
              "      <td>Was at the supermarket today. Didn't buy toile...</td>\n",
              "      <td>3</td>\n",
              "    </tr>\n",
              "    <tr>\n",
              "      <th>8</th>\n",
              "      <td>3807.0</td>\n",
              "      <td>48759.0</td>\n",
              "      <td>Atlanta, GA USA</td>\n",
              "      <td>16-03-2020</td>\n",
              "      <td>Due to COVID-19 our retail store and classroom...</td>\n",
              "      <td>4</td>\n",
              "    </tr>\n",
              "    <tr>\n",
              "      <th>9</th>\n",
              "      <td>3808.0</td>\n",
              "      <td>48760.0</td>\n",
              "      <td>BHAVNAGAR,GUJRAT</td>\n",
              "      <td>16-03-2020</td>\n",
              "      <td>For corona prevention,we should stop to buy th...</td>\n",
              "      <td>2</td>\n",
              "    </tr>\n",
              "    <tr>\n",
              "      <th>10</th>\n",
              "      <td>3809.0</td>\n",
              "      <td>48761.0</td>\n",
              "      <td>Makati, Manila</td>\n",
              "      <td>16-03-2020</td>\n",
              "      <td>All month there hasn't been crowding in the su...</td>\n",
              "      <td>3</td>\n",
              "    </tr>\n",
              "    <tr>\n",
              "      <th>11</th>\n",
              "      <td>3810.0</td>\n",
              "      <td>48762.0</td>\n",
              "      <td>Pitt Meadows, BC, Canada</td>\n",
              "      <td>16-03-2020</td>\n",
              "      <td>Due to the Covid-19 situation, we have increas...</td>\n",
              "      <td>1</td>\n",
              "    </tr>\n",
              "    <tr>\n",
              "      <th>12</th>\n",
              "      <td>3811.0</td>\n",
              "      <td>48763.0</td>\n",
              "      <td>Horningsea</td>\n",
              "      <td>16-03-2020</td>\n",
              "      <td>#horningsea is a caring community. LetÂs ALL ...</td>\n",
              "      <td>1</td>\n",
              "    </tr>\n",
              "    <tr>\n",
              "      <th>13</th>\n",
              "      <td>3812.0</td>\n",
              "      <td>48764.0</td>\n",
              "      <td>Chicago, IL</td>\n",
              "      <td>16-03-2020</td>\n",
              "      <td>Me: I don't need to stock up on food, I'll jus...</td>\n",
              "      <td>4</td>\n",
              "    </tr>\n",
              "    <tr>\n",
              "      <th>14</th>\n",
              "      <td>3813.0</td>\n",
              "      <td>48765.0</td>\n",
              "      <td>NaN</td>\n",
              "      <td>16-03-2020</td>\n",
              "      <td>ADARA Releases COVID-19 Resource Center for Tr...</td>\n",
              "      <td>4</td>\n",
              "    </tr>\n",
              "    <tr>\n",
              "      <th>15</th>\n",
              "      <td>3814.0</td>\n",
              "      <td>48766.0</td>\n",
              "      <td>Houston, Texas</td>\n",
              "      <td>16-03-2020</td>\n",
              "      <td>Lines at the grocery store have been unpredict...</td>\n",
              "      <td>4</td>\n",
              "    </tr>\n",
              "    <tr>\n",
              "      <th>16</th>\n",
              "      <td>3815.0</td>\n",
              "      <td>48767.0</td>\n",
              "      <td>Saudi Arabia</td>\n",
              "      <td>16-03-2020</td>\n",
              "      <td>????? ????? ????? ????? ??\\r\\r\\n?????? ????? ?...</td>\n",
              "      <td>3</td>\n",
              "    </tr>\n",
              "    <tr>\n",
              "      <th>17</th>\n",
              "      <td>3816.0</td>\n",
              "      <td>48768.0</td>\n",
              "      <td>Ontario, Canada</td>\n",
              "      <td>16-03-2020</td>\n",
              "      <td>@eyeonthearctic 16MAR20 Russia consumer survei...</td>\n",
              "      <td>3</td>\n",
              "    </tr>\n",
              "    <tr>\n",
              "      <th>18</th>\n",
              "      <td>3817.0</td>\n",
              "      <td>48769.0</td>\n",
              "      <td>North America</td>\n",
              "      <td>16-03-2020</td>\n",
              "      <td>Amazon Glitch Stymies Whole Foods, Fresh Groce...</td>\n",
              "      <td>1</td>\n",
              "    </tr>\n",
              "    <tr>\n",
              "      <th>19</th>\n",
              "      <td>3818.0</td>\n",
              "      <td>48770.0</td>\n",
              "      <td>Denver, CO</td>\n",
              "      <td>16-03-2020</td>\n",
              "      <td>For those who aren't struggling, please consid...</td>\n",
              "      <td>4</td>\n",
              "    </tr>\n",
              "  </tbody>\n",
              "</table>\n",
              "</div>"
            ],
            "text/plain": [
              "    UserName  ...  Sentiment\n",
              "0     3799.0  ...          3\n",
              "1     3800.0  ...          4\n",
              "2     3801.0  ...          4\n",
              "3     3802.0  ...          4\n",
              "4     3803.0  ...          0\n",
              "5     3804.0  ...          4\n",
              "6     3805.0  ...          4\n",
              "7     3806.0  ...          3\n",
              "8     3807.0  ...          4\n",
              "9     3808.0  ...          2\n",
              "10    3809.0  ...          3\n",
              "11    3810.0  ...          1\n",
              "12    3811.0  ...          1\n",
              "13    3812.0  ...          4\n",
              "14    3813.0  ...          4\n",
              "15    3814.0  ...          4\n",
              "16    3815.0  ...          3\n",
              "17    3816.0  ...          3\n",
              "18    3817.0  ...          1\n",
              "19    3818.0  ...          4\n",
              "\n",
              "[20 rows x 6 columns]"
            ]
          },
          "metadata": {},
          "execution_count": 61
        }
      ]
    },
    {
      "cell_type": "code",
      "metadata": {
        "colab": {
          "base_uri": "https://localhost:8080/",
          "height": 670
        },
        "id": "xKR5dCVN0l13",
        "outputId": "ac58db45-8f95-4ac6-fff9-9b0845593280"
      },
      "source": [
        "df_test['Sentiment']= label_encoder.fit_transform(df_test['Sentiment'])\n",
        " \n",
        "df_test.head(20)"
      ],
      "execution_count": null,
      "outputs": [
        {
          "output_type": "execute_result",
          "data": {
            "text/html": [
              "<div>\n",
              "<style scoped>\n",
              "    .dataframe tbody tr th:only-of-type {\n",
              "        vertical-align: middle;\n",
              "    }\n",
              "\n",
              "    .dataframe tbody tr th {\n",
              "        vertical-align: top;\n",
              "    }\n",
              "\n",
              "    .dataframe thead th {\n",
              "        text-align: right;\n",
              "    }\n",
              "</style>\n",
              "<table border=\"1\" class=\"dataframe\">\n",
              "  <thead>\n",
              "    <tr style=\"text-align: right;\">\n",
              "      <th></th>\n",
              "      <th>UserName</th>\n",
              "      <th>ScreenName</th>\n",
              "      <th>Location</th>\n",
              "      <th>TweetAt</th>\n",
              "      <th>OriginalTweet</th>\n",
              "      <th>Sentiment</th>\n",
              "    </tr>\n",
              "  </thead>\n",
              "  <tbody>\n",
              "    <tr>\n",
              "      <th>0</th>\n",
              "      <td>1</td>\n",
              "      <td>44953</td>\n",
              "      <td>NYC</td>\n",
              "      <td>02-03-2020</td>\n",
              "      <td>TRENDING: New Yorkers encounter empty supermar...</td>\n",
              "      <td>0</td>\n",
              "    </tr>\n",
              "    <tr>\n",
              "      <th>1</th>\n",
              "      <td>2</td>\n",
              "      <td>44954</td>\n",
              "      <td>Seattle, WA</td>\n",
              "      <td>02-03-2020</td>\n",
              "      <td>When I couldn't find hand sanitizer at Fred Me...</td>\n",
              "      <td>4</td>\n",
              "    </tr>\n",
              "    <tr>\n",
              "      <th>2</th>\n",
              "      <td>3</td>\n",
              "      <td>44955</td>\n",
              "      <td>NaN</td>\n",
              "      <td>02-03-2020</td>\n",
              "      <td>Find out how you can protect yourself and love...</td>\n",
              "      <td>1</td>\n",
              "    </tr>\n",
              "    <tr>\n",
              "      <th>3</th>\n",
              "      <td>4</td>\n",
              "      <td>44956</td>\n",
              "      <td>Chicagoland</td>\n",
              "      <td>02-03-2020</td>\n",
              "      <td>#Panic buying hits #NewYork City as anxious sh...</td>\n",
              "      <td>2</td>\n",
              "    </tr>\n",
              "    <tr>\n",
              "      <th>4</th>\n",
              "      <td>5</td>\n",
              "      <td>44957</td>\n",
              "      <td>Melbourne, Victoria</td>\n",
              "      <td>03-03-2020</td>\n",
              "      <td>#toiletpaper #dunnypaper #coronavirus #coronav...</td>\n",
              "      <td>3</td>\n",
              "    </tr>\n",
              "    <tr>\n",
              "      <th>5</th>\n",
              "      <td>6</td>\n",
              "      <td>44958</td>\n",
              "      <td>Los Angeles</td>\n",
              "      <td>03-03-2020</td>\n",
              "      <td>Do you remember the last time you paid $2.99 a...</td>\n",
              "      <td>3</td>\n",
              "    </tr>\n",
              "    <tr>\n",
              "      <th>6</th>\n",
              "      <td>7</td>\n",
              "      <td>44959</td>\n",
              "      <td>NaN</td>\n",
              "      <td>03-03-2020</td>\n",
              "      <td>Voting in the age of #coronavirus = hand sanit...</td>\n",
              "      <td>4</td>\n",
              "    </tr>\n",
              "    <tr>\n",
              "      <th>7</th>\n",
              "      <td>8</td>\n",
              "      <td>44960</td>\n",
              "      <td>Geneva, Switzerland</td>\n",
              "      <td>03-03-2020</td>\n",
              "      <td>@DrTedros \"We canÂt stop #COVID19 without pro...</td>\n",
              "      <td>3</td>\n",
              "    </tr>\n",
              "    <tr>\n",
              "      <th>8</th>\n",
              "      <td>9</td>\n",
              "      <td>44961</td>\n",
              "      <td>NaN</td>\n",
              "      <td>04-03-2020</td>\n",
              "      <td>HI TWITTER! I am a pharmacist. I sell hand san...</td>\n",
              "      <td>0</td>\n",
              "    </tr>\n",
              "    <tr>\n",
              "      <th>9</th>\n",
              "      <td>10</td>\n",
              "      <td>44962</td>\n",
              "      <td>Dublin, Ireland</td>\n",
              "      <td>04-03-2020</td>\n",
              "      <td>Anyone been in a supermarket over the last few...</td>\n",
              "      <td>1</td>\n",
              "    </tr>\n",
              "    <tr>\n",
              "      <th>10</th>\n",
              "      <td>11</td>\n",
              "      <td>44963</td>\n",
              "      <td>Boksburg, South Africa</td>\n",
              "      <td>04-03-2020</td>\n",
              "      <td>Best quality couches at unbelievably low price...</td>\n",
              "      <td>4</td>\n",
              "    </tr>\n",
              "    <tr>\n",
              "      <th>11</th>\n",
              "      <td>12</td>\n",
              "      <td>44964</td>\n",
              "      <td>New Delhi</td>\n",
              "      <td>04-03-2020</td>\n",
              "      <td>Beware of counterfeits trying to sell fake mas...</td>\n",
              "      <td>0</td>\n",
              "    </tr>\n",
              "    <tr>\n",
              "      <th>12</th>\n",
              "      <td>13</td>\n",
              "      <td>44965</td>\n",
              "      <td>USA, PA</td>\n",
              "      <td>04-03-2020</td>\n",
              "      <td>Panic food buying in Germany due to #coronavir...</td>\n",
              "      <td>0</td>\n",
              "    </tr>\n",
              "    <tr>\n",
              "      <th>13</th>\n",
              "      <td>14</td>\n",
              "      <td>44966</td>\n",
              "      <td>NaN</td>\n",
              "      <td>04-03-2020</td>\n",
              "      <td>#Covid_19 Went to the Grocery Store, turns out...</td>\n",
              "      <td>1</td>\n",
              "    </tr>\n",
              "    <tr>\n",
              "      <th>14</th>\n",
              "      <td>15</td>\n",
              "      <td>44967</td>\n",
              "      <td>Washington, DC</td>\n",
              "      <td>04-03-2020</td>\n",
              "      <td>While we were busy watching election returns a...</td>\n",
              "      <td>4</td>\n",
              "    </tr>\n",
              "    <tr>\n",
              "      <th>15</th>\n",
              "      <td>16</td>\n",
              "      <td>44968</td>\n",
              "      <td>Bengaluru</td>\n",
              "      <td>04-03-2020</td>\n",
              "      <td>#AirSewa \\r\\r\\n\\r\\r\\n@flyspicejet is not provi...</td>\n",
              "      <td>0</td>\n",
              "    </tr>\n",
              "    <tr>\n",
              "      <th>16</th>\n",
              "      <td>17</td>\n",
              "      <td>44969</td>\n",
              "      <td>Mumbai</td>\n",
              "      <td>05-03-2020</td>\n",
              "      <td>What Precautionary measures have you all taken...</td>\n",
              "      <td>1</td>\n",
              "    </tr>\n",
              "    <tr>\n",
              "      <th>17</th>\n",
              "      <td>18</td>\n",
              "      <td>44970</td>\n",
              "      <td>Toronto, Ontario</td>\n",
              "      <td>05-03-2020</td>\n",
              "      <td>When youÂre stockpiling food &amp;amp; other supp...</td>\n",
              "      <td>3</td>\n",
              "    </tr>\n",
              "    <tr>\n",
              "      <th>18</th>\n",
              "      <td>19</td>\n",
              "      <td>44971</td>\n",
              "      <td>NaN</td>\n",
              "      <td>05-03-2020</td>\n",
              "      <td>That's about a week from now. A bit optimistic...</td>\n",
              "      <td>4</td>\n",
              "    </tr>\n",
              "    <tr>\n",
              "      <th>19</th>\n",
              "      <td>20</td>\n",
              "      <td>44972</td>\n",
              "      <td>Tallahassee</td>\n",
              "      <td>05-03-2020</td>\n",
              "      <td>Studies show the #coronavirus like #COVID19 ca...</td>\n",
              "      <td>1</td>\n",
              "    </tr>\n",
              "  </tbody>\n",
              "</table>\n",
              "</div>"
            ],
            "text/plain": [
              "    UserName  ...  Sentiment\n",
              "0          1  ...          0\n",
              "1          2  ...          4\n",
              "2          3  ...          1\n",
              "3          4  ...          2\n",
              "4          5  ...          3\n",
              "5          6  ...          3\n",
              "6          7  ...          4\n",
              "7          8  ...          3\n",
              "8          9  ...          0\n",
              "9         10  ...          1\n",
              "10        11  ...          4\n",
              "11        12  ...          0\n",
              "12        13  ...          0\n",
              "13        14  ...          1\n",
              "14        15  ...          4\n",
              "15        16  ...          0\n",
              "16        17  ...          1\n",
              "17        18  ...          3\n",
              "18        19  ...          4\n",
              "19        20  ...          1\n",
              "\n",
              "[20 rows x 6 columns]"
            ]
          },
          "metadata": {},
          "execution_count": 62
        }
      ]
    },
    {
      "cell_type": "code",
      "metadata": {
        "colab": {
          "base_uri": "https://localhost:8080/"
        },
        "id": "6BkZmoX8_lSM",
        "outputId": "a7d102ce-662e-4efc-f3f3-7ff94ec43956"
      },
      "source": [
        "df_train['Sentiment'].unique()"
      ],
      "execution_count": null,
      "outputs": [
        {
          "output_type": "execute_result",
          "data": {
            "text/plain": [
              "array([3, 4, 0, 2, 1])"
            ]
          },
          "metadata": {},
          "execution_count": 63
        }
      ]
    },
    {
      "cell_type": "code",
      "metadata": {
        "id": "J0MAH8MiEWRQ"
      },
      "source": [
        "# data_pos = df_train[df_train['Sentiment'] == 4]\n",
        "# data_neg = df_train[df_train['Sentiment'] == 2]\n",
        "# data_epos = df_train[df_train['Sentiment'] == 1]\n",
        "# data_eneg = df_train[df_train['Sentiment'] == 0]\n",
        "# data_neu = df_train[df_train['Sentiment'] == 3]"
      ],
      "execution_count": null,
      "outputs": []
    },
    {
      "cell_type": "code",
      "metadata": {
        "colab": {
          "base_uri": "https://localhost:8080/",
          "height": 419
        },
        "id": "lQMcgQUXG7pI",
        "outputId": "28874e5f-1a53-44d4-e141-3549e92b270c"
      },
      "source": [
        "sub=pd.read_csv('/content/drive/MyDrive/NLP covid/NLP covid/submission_.csv')\n",
        "sub['OriginalTweet']=sub['OriginalTweet'].str.lower()\n",
        "sub['OriginalTweet'].tail()\n",
        "df_train['OriginalTweet']=df_train['OriginalTweet'].str.lower()\n",
        "df_train['OriginalTweet'].tail()\n",
        "\n",
        "df_test['OriginalTweet']=df_test['OriginalTweet'].str.lower()\n",
        "df_test['OriginalTweet'].tail()\n",
        "sub"
      ],
      "execution_count": null,
      "outputs": [
        {
          "output_type": "execute_result",
          "data": {
            "text/html": [
              "<div>\n",
              "<style scoped>\n",
              "    .dataframe tbody tr th:only-of-type {\n",
              "        vertical-align: middle;\n",
              "    }\n",
              "\n",
              "    .dataframe tbody tr th {\n",
              "        vertical-align: top;\n",
              "    }\n",
              "\n",
              "    .dataframe thead th {\n",
              "        text-align: right;\n",
              "    }\n",
              "</style>\n",
              "<table border=\"1\" class=\"dataframe\">\n",
              "  <thead>\n",
              "    <tr style=\"text-align: right;\">\n",
              "      <th></th>\n",
              "      <th>OriginalTweet</th>\n",
              "      <th>Sentiment</th>\n",
              "    </tr>\n",
              "  </thead>\n",
              "  <tbody>\n",
              "    <tr>\n",
              "      <th>0</th>\n",
              "      <td>trending: new yorkers encounter empty supermar...</td>\n",
              "      <td>NaN</td>\n",
              "    </tr>\n",
              "    <tr>\n",
              "      <th>1</th>\n",
              "      <td>when i couldn't find hand sanitizer at fred me...</td>\n",
              "      <td>NaN</td>\n",
              "    </tr>\n",
              "    <tr>\n",
              "      <th>2</th>\n",
              "      <td>find out how you can protect yourself and love...</td>\n",
              "      <td>NaN</td>\n",
              "    </tr>\n",
              "    <tr>\n",
              "      <th>3</th>\n",
              "      <td>#panic buying hits #newyork city as anxious sh...</td>\n",
              "      <td>NaN</td>\n",
              "    </tr>\n",
              "    <tr>\n",
              "      <th>4</th>\n",
              "      <td>#toiletpaper #dunnypaper #coronavirus #coronav...</td>\n",
              "      <td>NaN</td>\n",
              "    </tr>\n",
              "    <tr>\n",
              "      <th>...</th>\n",
              "      <td>...</td>\n",
              "      <td>...</td>\n",
              "    </tr>\n",
              "    <tr>\n",
              "      <th>3793</th>\n",
              "      <td>meanwhile in a supermarket in israel -- people...</td>\n",
              "      <td>NaN</td>\n",
              "    </tr>\n",
              "    <tr>\n",
              "      <th>3794</th>\n",
              "      <td>did you panic buy a lot of non-perishable item...</td>\n",
              "      <td>NaN</td>\n",
              "    </tr>\n",
              "    <tr>\n",
              "      <th>3795</th>\n",
              "      <td>asst prof of economics @cconces was on @nbcphi...</td>\n",
              "      <td>NaN</td>\n",
              "    </tr>\n",
              "    <tr>\n",
              "      <th>3796</th>\n",
              "      <td>gov need to do somethings instead of biar je r...</td>\n",
              "      <td>NaN</td>\n",
              "    </tr>\n",
              "    <tr>\n",
              "      <th>3797</th>\n",
              "      <td>i and @forestandpaper members are committed to...</td>\n",
              "      <td>NaN</td>\n",
              "    </tr>\n",
              "  </tbody>\n",
              "</table>\n",
              "<p>3798 rows × 2 columns</p>\n",
              "</div>"
            ],
            "text/plain": [
              "                                          OriginalTweet  Sentiment\n",
              "0     trending: new yorkers encounter empty supermar...        NaN\n",
              "1     when i couldn't find hand sanitizer at fred me...        NaN\n",
              "2     find out how you can protect yourself and love...        NaN\n",
              "3     #panic buying hits #newyork city as anxious sh...        NaN\n",
              "4     #toiletpaper #dunnypaper #coronavirus #coronav...        NaN\n",
              "...                                                 ...        ...\n",
              "3793  meanwhile in a supermarket in israel -- people...        NaN\n",
              "3794  did you panic buy a lot of non-perishable item...        NaN\n",
              "3795  asst prof of economics @cconces was on @nbcphi...        NaN\n",
              "3796  gov need to do somethings instead of biar je r...        NaN\n",
              "3797  i and @forestandpaper members are committed to...        NaN\n",
              "\n",
              "[3798 rows x 2 columns]"
            ]
          },
          "metadata": {},
          "execution_count": 65
        }
      ]
    },
    {
      "cell_type": "code",
      "metadata": {
        "id": "DIK4Nh5JHgO-"
      },
      "source": [
        "stopwordlist = ['a', 'about', 'above', 'after', 'again', 'ain', 'all', 'am', 'an',\n",
        "             'and','any','are', 'as', 'at', 'be', 'because', 'been', 'before',\n",
        "             'being', 'below', 'between','both', 'by', 'can', 'd', 'did', 'do',\n",
        "             'does', 'doing', 'down', 'during', 'each','few', 'for', 'from',\n",
        "             'further', 'had', 'has', 'have', 'having', 'he', 'her', 'here',\n",
        "             'hers', 'herself', 'him', 'himself', 'his', 'how', 'i', 'if', 'in',\n",
        "             'into','is', 'it', 'its', 'itself', 'just', 'll', 'm', 'ma',\n",
        "             'me', 'more', 'most','my', 'myself', 'now', 'o', 'of', 'on', 'once',\n",
        "             'only', 'or', 'other', 'our', 'ours','ourselves', 'out', 'own', 're','s', 'same', 'she', \"shes\", 'should', \"shouldve\",'so', 'some', 'such',\n",
        "             't', 'than', 'that', \"thatll\", 'the', 'their', 'theirs', 'them',\n",
        "             'themselves', 'then', 'there', 'these', 'they', 'this', 'those',\n",
        "             'through', 'to', 'too','under', 'until', 'up', 've', 'very', 'was',\n",
        "             'we', 'were', 'what', 'when', 'where','which','while', 'who', 'whom',\n",
        "             'why', 'will', 'with', 'won', 'y', 'you', \"youd\",\"youll\", \"youre\",\n",
        "             \"youve\", 'your', 'yours', 'yourself', 'yourselves']"
      ],
      "execution_count": null,
      "outputs": []
    },
    {
      "cell_type": "code",
      "metadata": {
        "colab": {
          "base_uri": "https://localhost:8080/"
        },
        "id": "8YlBzJcCHnFr",
        "outputId": "f97d05a1-93ca-442b-fe2a-e170e8e1bf26"
      },
      "source": [
        "STOPWORDS = set(stopwordlist)\n",
        "def cleaning_stopwords(text):\n",
        "    return \" \".join([word for word in str(text).split() if word not in STOPWORDS])\n",
        "df_train['OriginalTweet'] = df_train['OriginalTweet'].apply(lambda text: cleaning_stopwords(text))\n",
        "df_test['OriginalTweet'] = df_test['OriginalTweet'].apply(lambda text: cleaning_stopwords(text))\n",
        "sub['OriginalTweet'] = sub['OriginalTweet'].apply(lambda text: cleaning_stopwords(text))\n",
        "df_train['OriginalTweet'].head()"
      ],
      "execution_count": null,
      "outputs": [
        {
          "output_type": "execute_result",
          "data": {
            "text/plain": [
              "0    @menyrbie @phil_gahan @chrisitv https://t.co/i...\n",
              "1    advice talk neighbours family exchange phone n...\n",
              "2    coronavirus australia: woolworths give elderly...\n",
              "3    food stock not one empty... please, don't pani...\n",
              "4    me, ready go supermarket #covid19 outbreak. no...\n",
              "Name: OriginalTweet, dtype: object"
            ]
          },
          "metadata": {},
          "execution_count": 67
        }
      ]
    },
    {
      "cell_type": "code",
      "metadata": {
        "colab": {
          "base_uri": "https://localhost:8080/"
        },
        "id": "H2YwURUxJrdY",
        "outputId": "9b9681c1-712d-4423-d9bc-4b3e8b3404b3"
      },
      "source": [
        "def cleaning_URLs(data):\n",
        "    return re.sub('((www.[^s]+)|(https?://[^s]+))',' ', data)\n",
        "df_train['OriginalTweet'] = df_train['OriginalTweet'].apply(lambda x: cleaning_URLs(x))\n",
        "df_test['OriginalTweet'] = df_test['OriginalTweet'].apply(lambda x: cleaning_URLs(x))\n",
        "sub['OriginalTweet'] = sub['OriginalTweet'].apply(lambda x: cleaning_URLs(x))\n",
        "df_train['OriginalTweet'].head()"
      ],
      "execution_count": null,
      "outputs": [
        {
          "output_type": "execute_result",
          "data": {
            "text/plain": [
              "0    @menyrbie @phil_gahan @chrisitv  s://t.co/xx6g...\n",
              "1    advice talk neighbours family exchange phone n...\n",
              "2    coronavirus australia: woolworths give elderly...\n",
              "3    food stock not one empty... please, don't pani...\n",
              "4    me, ready go supermarket #covid19 outbreak. no...\n",
              "Name: OriginalTweet, dtype: object"
            ]
          },
          "metadata": {},
          "execution_count": 68
        }
      ]
    },
    {
      "cell_type": "code",
      "metadata": {
        "colab": {
          "base_uri": "https://localhost:8080/"
        },
        "id": "vLhhkQXOIP6Y",
        "outputId": "f441a6ff-af0c-444e-9d65-f9ac31a268d9"
      },
      "source": [
        "import string\n",
        "english_punctuations = string.punctuation\n",
        "punctuations_list = english_punctuations\n",
        "def cleaning_punctuations(text):\n",
        "    translator = str.maketrans('', '', punctuations_list)\n",
        "    return text.translate(translator)\n",
        "df_train['OriginalTweet']= df_train['OriginalTweet'].apply(lambda x: cleaning_punctuations(x))\n",
        "df_test['OriginalTweet']= df_test['OriginalTweet'].apply(lambda x: cleaning_punctuations(x))\n",
        "sub['OriginalTweet']= sub['OriginalTweet'].apply(lambda x: cleaning_punctuations(x))\n",
        "df_train['OriginalTweet'].head()"
      ],
      "execution_count": null,
      "outputs": [
        {
          "output_type": "execute_result",
          "data": {
            "text/plain": [
              "0        menyrbie philgahan chrisitv  stcoxx6ghgfzcc  \n",
              "1    advice talk neighbours family exchange phone n...\n",
              "2    coronavirus australia woolworths give elderly ...\n",
              "3    food stock not one empty please dont panic eno...\n",
              "4    me ready go supermarket covid19 outbreak not i...\n",
              "Name: OriginalTweet, dtype: object"
            ]
          },
          "metadata": {},
          "execution_count": 69
        }
      ]
    },
    {
      "cell_type": "code",
      "metadata": {
        "colab": {
          "base_uri": "https://localhost:8080/"
        },
        "id": "5fjAt_EUIskV",
        "outputId": "b84e27af-ab10-4aca-8b2d-b90a89eb3bb1"
      },
      "source": [
        "def cleaning_repeating_char(text):\n",
        "    return re.sub(r'(.)1+', r'1', text)\n",
        "df_train['OriginalTweet'] = df_train['OriginalTweet'].apply(lambda x: cleaning_repeating_char(x))\n",
        "df_test['OriginalTweet'] = df_test['OriginalTweet'].apply(lambda x: cleaning_repeating_char(x))\n",
        "sub['OriginalTweet'] = sub['OriginalTweet'].apply(lambda x: cleaning_repeating_char(x))\n",
        "df_train['OriginalTweet'].head()"
      ],
      "execution_count": null,
      "outputs": [
        {
          "output_type": "execute_result",
          "data": {
            "text/plain": [
              "0        menyrbie philgahan chrisitv  stcoxx6ghgfzcc  \n",
              "1    advice talk neighbours family exchange phone n...\n",
              "2    coronavirus australia woolworths give elderly ...\n",
              "3    food stock not one empty please dont panic eno...\n",
              "4    me ready go supermarket covi19 outbreak not im...\n",
              "Name: OriginalTweet, dtype: object"
            ]
          },
          "metadata": {},
          "execution_count": 70
        }
      ]
    },
    {
      "cell_type": "code",
      "metadata": {
        "colab": {
          "base_uri": "https://localhost:8080/"
        },
        "id": "5_Z8l9YfKGlj",
        "outputId": "c1a8d11b-b756-418a-c3d3-5b02cb0db894"
      },
      "source": [
        "def cleaning_numbers(data):\n",
        "    return re.sub('[0-9]+', '', data)\n",
        "df_train['OriginalTweet'] = df_train['OriginalTweet'].apply(lambda x: cleaning_numbers(x))\n",
        "df_test['OriginalTweet'] = df_test['OriginalTweet'].apply(lambda x: cleaning_numbers(x))\n",
        "sub['OriginalTweet'] = sub['OriginalTweet'].apply(lambda x: cleaning_numbers(x))\n",
        "df_train['OriginalTweet'].head()"
      ],
      "execution_count": null,
      "outputs": [
        {
          "output_type": "execute_result",
          "data": {
            "text/plain": [
              "0         menyrbie philgahan chrisitv  stcoxxghgfzcc  \n",
              "1    advice talk neighbours family exchange phone n...\n",
              "2    coronavirus australia woolworths give elderly ...\n",
              "3    food stock not one empty please dont panic eno...\n",
              "4    me ready go supermarket covi outbreak not im p...\n",
              "Name: OriginalTweet, dtype: object"
            ]
          },
          "metadata": {},
          "execution_count": 71
        }
      ]
    },
    {
      "cell_type": "code",
      "metadata": {
        "colab": {
          "base_uri": "https://localhost:8080/"
        },
        "id": "_ntqqJIsQdMC",
        "outputId": "be347973-d59f-41b9-db44-c78334d84518"
      },
      "source": [
        "df_train.dtypes"
      ],
      "execution_count": null,
      "outputs": [
        {
          "output_type": "execute_result",
          "data": {
            "text/plain": [
              "UserName         float64\n",
              "ScreenName       float64\n",
              "Location          object\n",
              "TweetAt           object\n",
              "OriginalTweet     object\n",
              "Sentiment          int64\n",
              "dtype: object"
            ]
          },
          "metadata": {},
          "execution_count": 72
        }
      ]
    },
    {
      "cell_type": "code",
      "metadata": {
        "id": "fk4IZqUY-raj"
      },
      "source": [
        "# import nltk\n",
        "# nltk.download('wordnet')\n",
        "# lm = nltk.WordNetLemmatizer()\n",
        "# def lemmatizer_on_text(data):\n",
        "#     text = [lm.lemmatize(word) for word in data]\n",
        "#     return data\n",
        "# df_train['OriginalTweet'] = df_train['OriginalTweet'].apply(lambda x: lemmatizer_on_text(x))\n",
        "# df_test['OriginalTweet'] = df_test['OriginalTweet'].apply(lambda x: lemmatizer_on_text(x))\n",
        "# sub['OriginalTweet'] = sub['OriginalTweet'].apply(lambda x: lemmatizer_on_text(x))\n",
        "# df_train['OriginalTweet'].head()"
      ],
      "execution_count": null,
      "outputs": []
    },
    {
      "cell_type": "code",
      "metadata": {
        "colab": {
          "base_uri": "https://localhost:8080/"
        },
        "id": "FuNrmpyv-CJP",
        "outputId": "92f2e1a8-7045-4a4d-c821-8ed5188995bf"
      },
      "source": [
        "import nltk #better to do just stemming here, concluded this after hours of training.\n",
        "st = nltk.PorterStemmer()\n",
        "def stemming_on_text(data):\n",
        "    text = [st.stem(word) for word in data]\n",
        "    return data\n",
        "df_train['OriginalTweet']= df_train['OriginalTweet'].apply(lambda x: stemming_on_text(x))\n",
        "df_test['OriginalTweet']= df_test['OriginalTweet'].apply(lambda x: stemming_on_text(x))\n",
        "sub['OriginalTweet']= sub['OriginalTweet'].apply(lambda x: stemming_on_text(x))\n",
        "df_train['OriginalTweet'].head()"
      ],
      "execution_count": null,
      "outputs": [
        {
          "output_type": "execute_result",
          "data": {
            "text/plain": [
              "0         menyrbie philgahan chrisitv  stcoxxghgfzcc  \n",
              "1    advice talk neighbours family exchange phone n...\n",
              "2    coronavirus australia woolworths give elderly ...\n",
              "3    food stock not one empty please dont panic eno...\n",
              "4    me ready go supermarket covi outbreak not im p...\n",
              "Name: OriginalTweet, dtype: object"
            ]
          },
          "metadata": {},
          "execution_count": 74
        }
      ]
    },
    {
      "cell_type": "code",
      "metadata": {
        "colab": {
          "base_uri": "https://localhost:8080/"
        },
        "id": "94FKTzhSKAC0",
        "outputId": "a7e0242e-7276-4f94-ffa9-07ae7390faf1"
      },
      "source": [
        "from keras.models import Sequential\n",
        "from keras.preprocessing.text import Tokenizer\n",
        "from keras.preprocessing.sequence import pad_sequences\n",
        "from keras.layers import Dense, Embedding, LSTM, SpatialDropout1D\n",
        "from sklearn.model_selection import train_test_split \n",
        "import matplotlib.pyplot as plt\n",
        "\n",
        "tokenizer = Tokenizer(num_words=500, split=' ') \n",
        "tokenizer.fit_on_texts(df_train['OriginalTweet'].values)\n",
        "X_learn = tokenizer.texts_to_sequences(df_train['OriginalTweet'].values)\n",
        "word_index = tokenizer.word_index\n",
        "vocab_size = len(word_index) + 1\n",
        "X_work = tokenizer.texts_to_sequences(df_test['OriginalTweet'].values)\n",
        "X_sol = tokenizer.texts_to_sequences(sub['OriginalTweet'].values)\n",
        "X_learn = pad_sequences(X_learn)\n",
        "X_work = pad_sequences(X_work)\n",
        "X_sol = pad_sequences(X_sol)\n",
        "X_learn[1].shape"
      ],
      "execution_count": null,
      "outputs": [
        {
          "output_type": "execute_result",
          "data": {
            "text/plain": [
              "(29,)"
            ]
          },
          "metadata": {},
          "execution_count": 75
        }
      ]
    },
    {
      "cell_type": "code",
      "metadata": {
        "colab": {
          "base_uri": "https://localhost:8080/"
        },
        "id": "Ke6x4BElVsKY",
        "outputId": "a061bd8b-8273-4cbd-8df6-cb2b434421a7"
      },
      "source": [
        "embeddings_index = dict()\n",
        "f = open('/content/drive/MyDrive/NLP covid/NLP covid/glove.6B.200d.txt')\n",
        "for line in f:\n",
        "\tvalues = line.split()\n",
        "\tword = values[0]\n",
        "\tcoefs = np.asarray(values[1:], dtype='float32')\n",
        "\tembeddings_index[word] = coefs\n",
        "f.close()\n",
        "print('Loaded %s word vectors.' % len(embeddings_index))"
      ],
      "execution_count": null,
      "outputs": [
        {
          "output_type": "stream",
          "name": "stdout",
          "text": [
            "Loaded 400000 word vectors.\n"
          ]
        }
      ]
    },
    {
      "cell_type": "code",
      "metadata": {
        "id": "1GgIqsybYmcz"
      },
      "source": [
        "# create a weight matrix for words in training docs\n",
        "embedding_matrix = np.random.random((len(word_index)+1,200))\n",
        "for word, i in word_index.items():\n",
        "\tembedding_vector = embeddings_index.get(word)\n",
        "\tif embedding_vector is not None:\n",
        "\t\tembedding_matrix[i] = embedding_vector"
      ],
      "execution_count": null,
      "outputs": []
    },
    {
      "cell_type": "code",
      "metadata": {
        "colab": {
          "base_uri": "https://localhost:8080/"
        },
        "id": "pevQy3f2K6eZ",
        "outputId": "0183295b-4759-47c8-a00e-49713f81fd17"
      },
      "source": [
        "model = Sequential()\n",
        "model.add(Embedding(vocab_size, 200,weights=[embedding_matrix], input_shape = X_learn[1].shape))\n",
        "model.add(SpatialDropout1D(0.002))\n",
        "model.add(LSTM(100,return_sequences=True))\n",
        "model.add(LSTM(80,return_sequences=True))\n",
        "model.add(LSTM(50))\n",
        "model.add(Dense(5,activation='softmax'))\n",
        "model.compile(loss = 'categorical_crossentropy', optimizer='adam', metrics = ['accuracy'])\n",
        "print(model.summary())\n",
        "# embed_dim = 128\n",
        "# lstm_out = 200\n",
        "# batch_size = 32\n",
        "\n",
        "# model = Sequential()\n",
        "# model.add(Embedding(2000, embed_dim,input_length = X_learn.shape[1]))\n",
        "# model.add(SpatialDropout1D(0.01))\n",
        "# model.add(LSTM(lstm_out, dropout=0.2, recurrent_dropout=0.2))\n",
        "# model.add(Dense(5,activation='softmax'))\n",
        "# model.compile(loss = 'categorical_crossentropy', optimizer='adam', metrics = ['accuracy'])\n",
        "# print(model.summary())"
      ],
      "execution_count": null,
      "outputs": [
        {
          "output_type": "stream",
          "name": "stdout",
          "text": [
            "Model: \"sequential_2\"\n",
            "_________________________________________________________________\n",
            "Layer (type)                 Output Shape              Param #   \n",
            "=================================================================\n",
            "embedding_2 (Embedding)      (None, 29, 200)           14007400  \n",
            "_________________________________________________________________\n",
            "spatial_dropout1d_2 (Spatial (None, 29, 200)           0         \n",
            "_________________________________________________________________\n",
            "lstm_7 (LSTM)                (None, 29, 100)           120400    \n",
            "_________________________________________________________________\n",
            "lstm_8 (LSTM)                (None, 29, 80)            57920     \n",
            "_________________________________________________________________\n",
            "lstm_9 (LSTM)                (None, 50)                26200     \n",
            "_________________________________________________________________\n",
            "dense_1 (Dense)              (None, 5)                 255       \n",
            "=================================================================\n",
            "Total params: 14,212,175\n",
            "Trainable params: 14,212,175\n",
            "Non-trainable params: 0\n",
            "_________________________________________________________________\n",
            "None\n"
          ]
        }
      ]
    },
    {
      "cell_type": "code",
      "metadata": {
        "id": "6L6py2LDLCKS"
      },
      "source": [
        "y_learn=pd.get_dummies(df_train['Sentiment'])\n",
        "y_learn"
      ],
      "execution_count": null,
      "outputs": []
    },
    {
      "cell_type": "code",
      "metadata": {
        "colab": {
          "base_uri": "https://localhost:8080/"
        },
        "id": "h6TdWyh4LPVA",
        "outputId": "2b296415-2997-443b-a6e4-8d65ede6d053"
      },
      "source": [
        "batch_size=32\n",
        "model.fit(X_learn, y_learn, epochs =20,steps_per_epoch=500, batch_size=batch_size, verbose = 'auto')"
      ],
      "execution_count": null,
      "outputs": [
        {
          "output_type": "stream",
          "name": "stdout",
          "text": [
            "Epoch 1/20\n",
            "500/500 [==============================] - 16s 32ms/step - loss: 0.5921 - accuracy: 0.7827\n",
            "Epoch 2/20\n",
            "500/500 [==============================] - 16s 31ms/step - loss: 0.6284 - accuracy: 0.7672\n",
            "Epoch 3/20\n",
            "500/500 [==============================] - 16s 31ms/step - loss: 0.6187 - accuracy: 0.7717\n",
            "Epoch 4/20\n",
            "500/500 [==============================] - 16s 31ms/step - loss: 0.5006 - accuracy: 0.8181\n",
            "Epoch 5/20\n",
            "500/500 [==============================] - 16s 31ms/step - loss: 0.5431 - accuracy: 0.8041\n",
            "Epoch 6/20\n",
            "500/500 [==============================] - 16s 31ms/step - loss: 0.5137 - accuracy: 0.8128\n",
            "Epoch 7/20\n",
            "500/500 [==============================] - 16s 31ms/step - loss: 0.4479 - accuracy: 0.8406\n",
            "Epoch 8/20\n",
            "500/500 [==============================] - 16s 32ms/step - loss: 0.4812 - accuracy: 0.8239\n",
            "Epoch 9/20\n",
            "500/500 [==============================] - 16s 32ms/step - loss: 0.4167 - accuracy: 0.8558\n",
            "Epoch 10/20\n",
            "500/500 [==============================] - 16s 31ms/step - loss: 0.3734 - accuracy: 0.8652\n",
            "Epoch 11/20\n",
            "500/500 [==============================] - 16s 31ms/step - loss: 0.4405 - accuracy: 0.8406\n",
            "Epoch 12/20\n",
            "500/500 [==============================] - 16s 31ms/step - loss: 0.3242 - accuracy: 0.8850\n",
            "Epoch 13/20\n",
            "500/500 [==============================] - 16s 31ms/step - loss: 0.3497 - accuracy: 0.8759\n",
            "Epoch 14/20\n",
            "500/500 [==============================] - 16s 31ms/step - loss: 0.3907 - accuracy: 0.8594\n",
            "Epoch 15/20\n",
            "500/500 [==============================] - 16s 31ms/step - loss: 0.2722 - accuracy: 0.9080\n",
            "Epoch 16/20\n",
            "500/500 [==============================] - 16s 31ms/step - loss: 0.3091 - accuracy: 0.8914\n",
            "Epoch 17/20\n",
            "500/500 [==============================] - 16s 31ms/step - loss: 0.3366 - accuracy: 0.8783\n",
            "Epoch 18/20\n",
            "500/500 [==============================] - 16s 31ms/step - loss: 0.2405 - accuracy: 0.9187\n",
            "Epoch 19/20\n",
            "500/500 [==============================] - 16s 31ms/step - loss: 0.2751 - accuracy: 0.9013\n",
            "Epoch 20/20\n",
            "500/500 [==============================] - 16s 31ms/step - loss: 0.2723 - accuracy: 0.9045\n"
          ]
        },
        {
          "output_type": "execute_result",
          "data": {
            "text/plain": [
              "<keras.callbacks.History at 0x7fb244c5e950>"
            ]
          },
          "metadata": {},
          "execution_count": 90
        }
      ]
    },
    {
      "cell_type": "code",
      "metadata": {
        "colab": {
          "base_uri": "https://localhost:8080/"
        },
        "id": "-vOIG8E2OQAy",
        "outputId": "9777f14b-cb8f-48f6-eede-c114b933da19"
      },
      "source": [
        "y_sol=model.predict(X_sol)\n",
        "y_pred=np.argmax(y_sol,axis=1)\n",
        "y_pred"
      ],
      "execution_count": null,
      "outputs": [
        {
          "output_type": "execute_result",
          "data": {
            "text/plain": [
              "array([0, 4, 1, ..., 3, 0, 1])"
            ]
          },
          "metadata": {},
          "execution_count": 91
        }
      ]
    },
    {
      "cell_type": "code",
      "metadata": {
        "colab": {
          "base_uri": "https://localhost:8080/",
          "height": 419
        },
        "id": "jioODSqdR_0r",
        "outputId": "12b3bc60-7540-4385-ca36-be6a864f60e4"
      },
      "source": [
        "DF = pd.DataFrame(y_pred)\n",
        "#DF[].replace({\"3\": \"Neutral\", \"4\": \"Positive\", \"2\": \"Negative\",\"1\": \"Extremely Positive\",\"0\": \"Extremely Negative\"}, inplace=True)\n",
        "DF"
      ],
      "execution_count": null,
      "outputs": [
        {
          "output_type": "execute_result",
          "data": {
            "text/html": [
              "<div>\n",
              "<style scoped>\n",
              "    .dataframe tbody tr th:only-of-type {\n",
              "        vertical-align: middle;\n",
              "    }\n",
              "\n",
              "    .dataframe tbody tr th {\n",
              "        vertical-align: top;\n",
              "    }\n",
              "\n",
              "    .dataframe thead th {\n",
              "        text-align: right;\n",
              "    }\n",
              "</style>\n",
              "<table border=\"1\" class=\"dataframe\">\n",
              "  <thead>\n",
              "    <tr style=\"text-align: right;\">\n",
              "      <th></th>\n",
              "      <th>0</th>\n",
              "    </tr>\n",
              "  </thead>\n",
              "  <tbody>\n",
              "    <tr>\n",
              "      <th>0</th>\n",
              "      <td>0</td>\n",
              "    </tr>\n",
              "    <tr>\n",
              "      <th>1</th>\n",
              "      <td>4</td>\n",
              "    </tr>\n",
              "    <tr>\n",
              "      <th>2</th>\n",
              "      <td>1</td>\n",
              "    </tr>\n",
              "    <tr>\n",
              "      <th>3</th>\n",
              "      <td>2</td>\n",
              "    </tr>\n",
              "    <tr>\n",
              "      <th>4</th>\n",
              "      <td>3</td>\n",
              "    </tr>\n",
              "    <tr>\n",
              "      <th>...</th>\n",
              "      <td>...</td>\n",
              "    </tr>\n",
              "    <tr>\n",
              "      <th>3793</th>\n",
              "      <td>4</td>\n",
              "    </tr>\n",
              "    <tr>\n",
              "      <th>3794</th>\n",
              "      <td>2</td>\n",
              "    </tr>\n",
              "    <tr>\n",
              "      <th>3795</th>\n",
              "      <td>3</td>\n",
              "    </tr>\n",
              "    <tr>\n",
              "      <th>3796</th>\n",
              "      <td>0</td>\n",
              "    </tr>\n",
              "    <tr>\n",
              "      <th>3797</th>\n",
              "      <td>1</td>\n",
              "    </tr>\n",
              "  </tbody>\n",
              "</table>\n",
              "<p>3798 rows × 1 columns</p>\n",
              "</div>"
            ],
            "text/plain": [
              "      0\n",
              "0     0\n",
              "1     4\n",
              "2     1\n",
              "3     2\n",
              "4     3\n",
              "...  ..\n",
              "3793  4\n",
              "3794  2\n",
              "3795  3\n",
              "3796  0\n",
              "3797  1\n",
              "\n",
              "[3798 rows x 1 columns]"
            ]
          },
          "metadata": {},
          "execution_count": 92
        }
      ]
    },
    {
      "cell_type": "code",
      "metadata": {
        "colab": {
          "base_uri": "https://localhost:8080/",
          "height": 419
        },
        "id": "2hKNu0UiWOcj",
        "outputId": "bd326501-922a-415e-c59d-53d39fc77682"
      },
      "source": [
        "ans=pd.read_csv('/content/drive/MyDrive/NLP covid/NLP covid/submission_.csv')\n",
        "ans['Sentiment']=y_pred\n",
        "ans['Sentiment'] = ans['Sentiment'].map({3: \"Neutral\", 4: \"Positive\", 2: \"Negative\",1: \"Extremely Positive\",0: \"Extremely Negative\"})\n",
        "ans"
      ],
      "execution_count": null,
      "outputs": [
        {
          "output_type": "execute_result",
          "data": {
            "text/html": [
              "<div>\n",
              "<style scoped>\n",
              "    .dataframe tbody tr th:only-of-type {\n",
              "        vertical-align: middle;\n",
              "    }\n",
              "\n",
              "    .dataframe tbody tr th {\n",
              "        vertical-align: top;\n",
              "    }\n",
              "\n",
              "    .dataframe thead th {\n",
              "        text-align: right;\n",
              "    }\n",
              "</style>\n",
              "<table border=\"1\" class=\"dataframe\">\n",
              "  <thead>\n",
              "    <tr style=\"text-align: right;\">\n",
              "      <th></th>\n",
              "      <th>OriginalTweet</th>\n",
              "      <th>Sentiment</th>\n",
              "    </tr>\n",
              "  </thead>\n",
              "  <tbody>\n",
              "    <tr>\n",
              "      <th>0</th>\n",
              "      <td>TRENDING: New Yorkers encounter empty supermar...</td>\n",
              "      <td>Extremely Negative</td>\n",
              "    </tr>\n",
              "    <tr>\n",
              "      <th>1</th>\n",
              "      <td>When I couldn't find hand sanitizer at Fred Me...</td>\n",
              "      <td>Positive</td>\n",
              "    </tr>\n",
              "    <tr>\n",
              "      <th>2</th>\n",
              "      <td>Find out how you can protect yourself and love...</td>\n",
              "      <td>Extremely Positive</td>\n",
              "    </tr>\n",
              "    <tr>\n",
              "      <th>3</th>\n",
              "      <td>#Panic buying hits #NewYork City as anxious sh...</td>\n",
              "      <td>Negative</td>\n",
              "    </tr>\n",
              "    <tr>\n",
              "      <th>4</th>\n",
              "      <td>#toiletpaper #dunnypaper #coronavirus #coronav...</td>\n",
              "      <td>Neutral</td>\n",
              "    </tr>\n",
              "    <tr>\n",
              "      <th>...</th>\n",
              "      <td>...</td>\n",
              "      <td>...</td>\n",
              "    </tr>\n",
              "    <tr>\n",
              "      <th>3793</th>\n",
              "      <td>Meanwhile In A Supermarket in Israel -- People...</td>\n",
              "      <td>Positive</td>\n",
              "    </tr>\n",
              "    <tr>\n",
              "      <th>3794</th>\n",
              "      <td>Did you panic buy a lot of non-perishable item...</td>\n",
              "      <td>Negative</td>\n",
              "    </tr>\n",
              "    <tr>\n",
              "      <th>3795</th>\n",
              "      <td>Asst Prof of Economics @cconces was on @NBCPhi...</td>\n",
              "      <td>Neutral</td>\n",
              "    </tr>\n",
              "    <tr>\n",
              "      <th>3796</th>\n",
              "      <td>Gov need to do somethings instead of biar je r...</td>\n",
              "      <td>Extremely Negative</td>\n",
              "    </tr>\n",
              "    <tr>\n",
              "      <th>3797</th>\n",
              "      <td>I and @ForestandPaper members are committed to...</td>\n",
              "      <td>Extremely Positive</td>\n",
              "    </tr>\n",
              "  </tbody>\n",
              "</table>\n",
              "<p>3798 rows × 2 columns</p>\n",
              "</div>"
            ],
            "text/plain": [
              "                                          OriginalTweet           Sentiment\n",
              "0     TRENDING: New Yorkers encounter empty supermar...  Extremely Negative\n",
              "1     When I couldn't find hand sanitizer at Fred Me...            Positive\n",
              "2     Find out how you can protect yourself and love...  Extremely Positive\n",
              "3     #Panic buying hits #NewYork City as anxious sh...            Negative\n",
              "4     #toiletpaper #dunnypaper #coronavirus #coronav...             Neutral\n",
              "...                                                 ...                 ...\n",
              "3793  Meanwhile In A Supermarket in Israel -- People...            Positive\n",
              "3794  Did you panic buy a lot of non-perishable item...            Negative\n",
              "3795  Asst Prof of Economics @cconces was on @NBCPhi...             Neutral\n",
              "3796  Gov need to do somethings instead of biar je r...  Extremely Negative\n",
              "3797  I and @ForestandPaper members are committed to...  Extremely Positive\n",
              "\n",
              "[3798 rows x 2 columns]"
            ]
          },
          "metadata": {},
          "execution_count": 93
        }
      ]
    },
    {
      "cell_type": "code",
      "metadata": {
        "id": "LpHKV3NdXJYM"
      },
      "source": [
        "ans.to_csv('ans.csv', header=True, index=False)"
      ],
      "execution_count": null,
      "outputs": []
    },
    {
      "cell_type": "code",
      "metadata": {
        "id": "amYUuPzLWkxM"
      },
      "source": [
        "# df_train[\"OriginalTweet\"]=df_train[\"OriginalTweet\"].values.astype(str)\n",
        "# df_test[\"OriginalTweet\"]=df_test[\"OriginalTweet\"].values.astype(str)\n",
        "# df_train.head(3)"
      ],
      "execution_count": null,
      "outputs": []
    },
    {
      "cell_type": "code",
      "metadata": {
        "id": "0U3lQzHJVxuu"
      },
      "source": [
        "# from nltk.tokenize import RegexpTokenizer\n",
        "# tokenizer = RegexpTokenizer(r'\\w+|$[0-9]+|\\S+')\n",
        "# df_train['OriginalTweet'] = df_train['OriginalTweet'].apply(tokenizer.tokenize)\n",
        "# df_test['OriginalTweet'] = df_test['OriginalTweet'].apply(tokenizer.tokenize)\n",
        "# df_train['OriginalTweet'].head()"
      ],
      "execution_count": null,
      "outputs": []
    },
    {
      "cell_type": "code",
      "metadata": {
        "id": "iVObNmE8uRT0"
      },
      "source": [
        "# df_train['OriginalTweet']=[\" \".join(review) for review in df_train['OriginalTweet'].values]\n",
        "# df_test['OriginalTweet']=[\" \".join(review) for review in df_test['OriginalTweet'].values]"
      ],
      "execution_count": null,
      "outputs": []
    },
    {
      "cell_type": "code",
      "metadata": {
        "id": "Y8_fcLMBNnhn"
      },
      "source": [
        "# vectoriser = TfidfVectorizer(ngram_range=(1,2), max_features=500000)\n",
        "# vectoriser.fit_transform(df_train[\"OriginalTweet\"])\n",
        "# print('No. of feature_words: ', len(vectoriser.get_feature_names()))"
      ],
      "execution_count": null,
      "outputs": []
    }
  ]
}